{
 "cells": [
  {
   "cell_type": "code",
   "execution_count": 3,
   "metadata": {},
   "outputs": [
    {
     "name": "stderr",
     "output_type": "stream",
     "text": [
      "100%|██████████████████████████████████████████████████████████████████████████████████| 14/14 [00:39<00:00,  3.28s/it]\n"
     ]
    }
   ],
   "source": [
    "import os\n",
    "import cv2\n",
    "import numpy as np\n",
    "from imgaug import augmenters as iaa\n",
    "from tqdm import tqdm\n",
    "\n",
    "# Define the image augmentation pipeline\n",
    "augmentation_pipeline = iaa.Sequential([\n",
    "    iaa.Fliplr(0.5),  # Horizontal flip 50% of the time\n",
    "    iaa.Affine(\n",
    "        scale={\"x\": (0.8, 1.2), \"y\": (0.8, 1.2)},  # Scale images to 80-120% of their size\n",
    "        translate_percent={\"x\": (-0.2, 0.2), \"y\": (-0.2, 0.2)},  # Translate by -20 to +20% on x and y axis\n",
    "        rotate=(-25, 25),  # Rotate by -25 to +25 degrees\n",
    "        shear=(-8, 8)  # Shear by -8 to +8 degrees\n",
    "    ),\n",
    "    iaa.GaussianBlur(sigma=(0, 3.0)),  # Apply Gaussian blur with sigma between 0 and 3.0\n",
    "    iaa.AdditiveGaussianNoise(scale=(0, 0.05*255))  # Add Gaussian noise\n",
    "])\n",
    "\n",
    "# Paths\n",
    "input_folder = r\"C:\\Users\\ANKIT SINGH\\Desktop\\Face_recognition\\image\"\n",
    "output_folder = r\"C:\\Users\\ANKIT SINGH\\Desktop\\Face_recognition\\output_image\"\n",
    "\n",
    "# Create the output folder if it doesn't exist\n",
    "os.makedirs(output_folder, exist_ok=True)\n",
    "\n",
    "# Get all image filenames in the input folder\n",
    "image_filenames = [f for f in os.listdir(input_folder) if f.lower().endswith(('.png', '.jpg', '.jpeg', '.bmp'))]\n",
    "\n",
    "# Process each image\n",
    "for image_filename in tqdm(image_filenames):\n",
    "    # Read the image\n",
    "    image_path = os.path.join(input_folder, image_filename)\n",
    "    image = cv2.imread(image_path)\n",
    "\n",
    "    # Generate 50 augmented images\n",
    "    for i in range(50):\n",
    "        augmented_image = augmentation_pipeline.augment_image(image)\n",
    "        \n",
    "        # Save the augmented image\n",
    "        output_path = os.path.join(output_folder, f\"{os.path.splitext(image_filename)[0]}_aug_{i}.png\")\n",
    "        cv2.imwrite(output_path, augmented_image)\n"
   ]
  },
  {
   "cell_type": "code",
   "execution_count": null,
   "metadata": {},
   "outputs": [],
   "source": []
  },
  {
   "cell_type": "code",
   "execution_count": null,
   "metadata": {},
   "outputs": [],
   "source": []
  }
 ],
 "metadata": {
  "kernelspec": {
   "display_name": "Python 3",
   "language": "python",
   "name": "python3"
  },
  "language_info": {
   "codemirror_mode": {
    "name": "ipython",
    "version": 3
   },
   "file_extension": ".py",
   "mimetype": "text/x-python",
   "name": "python",
   "nbconvert_exporter": "python",
   "pygments_lexer": "ipython3",
   "version": "3.7.6"
  }
 },
 "nbformat": 4,
 "nbformat_minor": 4
}
